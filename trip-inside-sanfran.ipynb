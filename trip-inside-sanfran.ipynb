{
 "cells": [
  {
   "cell_type": "code",
   "execution_count": 1,
   "metadata": {
    "collapsed": true
   },
   "outputs": [],
   "source": [
    "from __future__ import division  \n",
    "\n",
    "import numpy as np\n",
    "import pandas as pd\n",
    "import json"
   ]
  },
  {
   "cell_type": "code",
   "execution_count": 2,
   "metadata": {
    "collapsed": true
   },
   "outputs": [],
   "source": [
    "# read the dataset, using json.loads to read the data structure --- list.\n",
    "\n",
    "taxi_trips = pd.read_csv('/home/rui/Documents/MLProject/data/modified-crab/valid-trips-limit65.csv')\n",
    "trip_trace = taxi_trips['trip_trace']\n",
    "new_triptrace = []\n",
    "for i in xrange(trip_trace.shape[0]):\n",
    "    new_triptrace.append(json.loads(trip_trace.iloc[i]))\n",
    "\n",
    "taxi_trips['trip_trace'] = new_triptrace"
   ]
  },
  {
   "cell_type": "code",
   "execution_count": 3,
   "metadata": {
    "collapsed": false
   },
   "outputs": [
    {
     "data": {
      "text/html": [
       "<div>\n",
       "<table border=\"1\" class=\"dataframe\">\n",
       "  <thead>\n",
       "    <tr style=\"text-align: right;\">\n",
       "      <th></th>\n",
       "      <th>taxi_id</th>\n",
       "      <th>time_stamp</th>\n",
       "      <th>week_day</th>\n",
       "      <th>trip_trace</th>\n",
       "    </tr>\n",
       "  </thead>\n",
       "  <tbody>\n",
       "    <tr>\n",
       "      <th>0</th>\n",
       "      <td>enyenewl</td>\n",
       "      <td>1.212620e+09</td>\n",
       "      <td>2</td>\n",
       "      <td>[[[37.78401, -122.40783], 1212618405.0], [[37....</td>\n",
       "    </tr>\n",
       "    <tr>\n",
       "      <th>1</th>\n",
       "      <td>enyenewl</td>\n",
       "      <td>1.212620e+09</td>\n",
       "      <td>2</td>\n",
       "      <td>[[[37.79243, -122.42614], 1212619843.0], [[37....</td>\n",
       "    </tr>\n",
       "    <tr>\n",
       "      <th>2</th>\n",
       "      <td>enyenewl</td>\n",
       "      <td>1.212626e+09</td>\n",
       "      <td>3</td>\n",
       "      <td>[[[37.8085, -122.41004], 1212625046.0], [[37.8...</td>\n",
       "    </tr>\n",
       "    <tr>\n",
       "      <th>3</th>\n",
       "      <td>enyenewl</td>\n",
       "      <td>1.212626e+09</td>\n",
       "      <td>3</td>\n",
       "      <td>[[[37.7934, -122.39326], 1212625685.0], [[37.7...</td>\n",
       "    </tr>\n",
       "    <tr>\n",
       "      <th>4</th>\n",
       "      <td>enyenewl</td>\n",
       "      <td>1.212628e+09</td>\n",
       "      <td>3</td>\n",
       "      <td>[[[37.7627, -122.41948], 1212627239.0], [[37.7...</td>\n",
       "    </tr>\n",
       "  </tbody>\n",
       "</table>\n",
       "</div>"
      ],
      "text/plain": [
       "    taxi_id    time_stamp  week_day  \\\n",
       "0  enyenewl  1.212620e+09         2   \n",
       "1  enyenewl  1.212620e+09         2   \n",
       "2  enyenewl  1.212626e+09         3   \n",
       "3  enyenewl  1.212626e+09         3   \n",
       "4  enyenewl  1.212628e+09         3   \n",
       "\n",
       "                                          trip_trace  \n",
       "0  [[[37.78401, -122.40783], 1212618405.0], [[37....  \n",
       "1  [[[37.79243, -122.42614], 1212619843.0], [[37....  \n",
       "2  [[[37.8085, -122.41004], 1212625046.0], [[37.8...  \n",
       "3  [[[37.7934, -122.39326], 1212625685.0], [[37.7...  \n",
       "4  [[[37.7627, -122.41948], 1212627239.0], [[37.7...  "
      ]
     },
     "execution_count": 3,
     "metadata": {},
     "output_type": "execute_result"
    }
   ],
   "source": [
    "taxi_trips.head()"
   ]
  },
  {
   "cell_type": "code",
   "execution_count": 4,
   "metadata": {
    "collapsed": false
   },
   "outputs": [
    {
     "data": {
      "text/plain": [
       "(280668, 4)"
      ]
     },
     "execution_count": 4,
     "metadata": {},
     "output_type": "execute_result"
    }
   ],
   "source": [
    "taxi_trips.shape"
   ]
  },
  {
   "cell_type": "markdown",
   "metadata": {},
   "source": [
    "# main function"
   ]
  },
  {
   "cell_type": "code",
   "execution_count": 5,
   "metadata": {
    "collapsed": true
   },
   "outputs": [],
   "source": [
    "max_la =  37.832373\n",
    "min_la =  37.708070\n",
    "max_long =  -122.359\n",
    "min_long =  -122.515000"
   ]
  },
  {
   "cell_type": "code",
   "execution_count": 6,
   "metadata": {
    "collapsed": false
   },
   "outputs": [
    {
     "name": "stdout",
     "output_type": "stream",
     "text": [
      "37.832373 37.70807 -122.359 -122.515\n"
     ]
    }
   ],
   "source": [
    "print max_la, min_la, max_long, min_long"
   ]
  },
  {
   "cell_type": "code",
   "execution_count": null,
   "metadata": {
    "collapsed": false,
    "scrolled": true
   },
   "outputs": [],
   "source": [
    "# cut off\n",
    "abnormal_indicator = []\n",
    "new_trips = []\n",
    "length_list = []\n",
    "\n",
    "for row_index, row in taxi_trips.iterrows():\n",
    "    single_trip = row[3]\n",
    "    trip_length = len(single_trip)\n",
    "    new_trip = []\n",
    "    \n",
    "    for i in range(trip_length):\n",
    "        location_coor = single_trip[i][0]\n",
    "        if min_la < location_coor[0] < max_la and min_long < location_coor[1] < max_long:\n",
    "            new_trip.append(single_trip[i])\n",
    "        else:\n",
    "            break\n",
    "    \n",
    "    length_list.append(len(new_trip))\n",
    "    \n",
    "    if len(new_trip) < 3:\n",
    "        wrong_indicator = 1\n",
    "        abnormal_indicator.append(wrong_indicator)\n",
    "    elif len(new_trip) >= 3:\n",
    "        wrong_indicator = 0\n",
    "        abnormal_indicator.append(wrong_indicator)\n",
    "        \n",
    "    new_trips.append(new_trip)"
   ]
  },
  {
   "cell_type": "code",
   "execution_count": 7,
   "metadata": {
    "collapsed": true
   },
   "outputs": [],
   "source": [
    "# through away\n",
    "abnormal_indicator = []\n",
    "new_trips = []\n",
    "length_list = []\n",
    "\n",
    "for row_index, row in taxi_trips.iterrows():\n",
    "    single_trip = row[3]\n",
    "    trip_length = len(single_trip)\n",
    "    new_trip = []\n",
    "    wrong_indicator = 0\n",
    "    \n",
    "    for i in range(trip_length):\n",
    "        location_coor = single_trip[i][0]\n",
    "        if min_la < location_coor[0] < max_la and min_long < location_coor[1] < max_long:\n",
    "            new_trip.append(single_trip[i])\n",
    "        else:\n",
    "            wrong_indicator = 1\n",
    "            break\n",
    "    \n",
    "    length_list.append(len(new_trip))\n",
    "    abnormal_indicator.append(wrong_indicator)\n",
    "        \n",
    "    new_trips.append(new_trip)"
   ]
  },
  {
   "cell_type": "code",
   "execution_count": null,
   "metadata": {
    "collapsed": false
   },
   "outputs": [],
   "source": [
    "import plotly.plotly as py\n",
    "import plotly.graph_objs as go\n",
    "\n",
    "length_list = np.array(length_list)\n",
    "\n",
    "data1 = [\n",
    "    go.Histogram(\n",
    "        x=length_list,\n",
    "        histnorm='probability'\n",
    "    )\n",
    "]\n",
    "py.iplot(data1)"
   ]
  },
  {
   "cell_type": "code",
   "execution_count": 8,
   "metadata": {
    "collapsed": true
   },
   "outputs": [],
   "source": [
    "taxi_trips['abnormal_indicator'] = abnormal_indicator\n",
    "taxi_trips['trip_trace'] = new_trips\n",
    "taxi_pandas = taxi_trips[taxi_trips['abnormal_indicator'] == 0]"
   ]
  },
  {
   "cell_type": "code",
   "execution_count": 9,
   "metadata": {
    "collapsed": false
   },
   "outputs": [
    {
     "data": {
      "text/plain": [
       "(271567, 5)"
      ]
     },
     "execution_count": 9,
     "metadata": {},
     "output_type": "execute_result"
    }
   ],
   "source": [
    "taxi_pandas.shape"
   ]
  },
  {
   "cell_type": "code",
   "execution_count": null,
   "metadata": {
    "collapsed": false
   },
   "outputs": [],
   "source": [
    "(272589, 5)"
   ]
  },
  {
   "cell_type": "code",
   "execution_count": null,
   "metadata": {
    "collapsed": true
   },
   "outputs": [],
   "source": [
    "taxi_pandas"
   ]
  },
  {
   "cell_type": "code",
   "execution_count": 10,
   "metadata": {
    "collapsed": true
   },
   "outputs": [],
   "source": [
    "del taxi_pandas['abnormal_indicator']\n",
    "taxi_pandas.to_csv('/home/rui/Documents/MLProject/data/modified-crab/trips-in-sanfran.csv', index=None)"
   ]
  },
  {
   "cell_type": "code",
   "execution_count": null,
   "metadata": {
    "collapsed": true
   },
   "outputs": [],
   "source": []
  }
 ],
 "metadata": {
  "kernelspec": {
   "display_name": "Python 2",
   "language": "python",
   "name": "python2"
  },
  "language_info": {
   "codemirror_mode": {
    "name": "ipython",
    "version": 2
   },
   "file_extension": ".py",
   "mimetype": "text/x-python",
   "name": "python",
   "nbconvert_exporter": "python",
   "pygments_lexer": "ipython2",
   "version": "2.7.11"
  }
 },
 "nbformat": 4,
 "nbformat_minor": 0
}
