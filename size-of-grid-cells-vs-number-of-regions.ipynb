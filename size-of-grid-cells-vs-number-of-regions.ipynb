{
 "cells": [
  {
   "cell_type": "code",
   "execution_count": 1,
   "metadata": {
    "collapsed": true
   },
   "outputs": [],
   "source": [
    "from __future__ import division  \n",
    "\n",
    "import numpy as np\n",
    "import pandas as pd\n",
    "\n",
    "from  Preprocesscopy import Preprocesscopy\n",
    "\n",
    "import plotly.plotly as py\n",
    "import plotly.graph_objs as go"
   ]
  },
  {
   "cell_type": "code",
   "execution_count": 2,
   "metadata": {
    "collapsed": true
   },
   "outputs": [],
   "source": [
    "file_path = '/home/rui/Documents/MLProject/data/modified-crab/trips-in-sanfran.csv'\n",
    "city = 'san_francisco'\n",
    "start_id = 0\n",
    "freq_threshold = 0"
   ]
  },
  {
   "cell_type": "code",
   "execution_count": 8,
   "metadata": {
    "collapsed": true
   },
   "outputs": [],
   "source": [
    "size = [100, 200, 300, 400, 500, 600, 700, 800, 900, 1000]\n",
    "diff_in_gps_coordinate = [(0.000898, 0.001125), (0.001797, 0.00225), (0.002695, 0.003374), \n",
    "                          (0.003593, 0.004499), (0.004492, 0.005624), (0.00539, 0.006749), (0.006288, 0.007874), \n",
    "                          (0.0071861, 0.008999), (0.008085, 0.010123), (0.008983, 0.011248)]\n",
    "\n",
    "tile_size = 0.360\n",
    "la_size = 0.003234\n",
    "long_size = 0.004049"
   ]
  },
  {
   "cell_type": "code",
   "execution_count": 9,
   "metadata": {
    "collapsed": true
   },
   "outputs": [],
   "source": [
    "number_of_regions = []"
   ]
  },
  {
   "cell_type": "code",
   "execution_count": 10,
   "metadata": {
    "collapsed": false
   },
   "outputs": [
    {
     "name": "stdout",
     "output_type": "stream",
     "text": [
      "done refind significant region\n",
      "done refind significant region\n",
      "done refind significant region\n",
      "done refind significant region\n",
      "done refind significant region\n",
      "done refind significant region\n",
      "done refind significant region\n",
      "done refind significant region\n",
      "done refind significant region\n",
      "done refind significant region\n"
     ]
    }
   ],
   "source": [
    "for i in range(len(size)):\n",
    "    tile_size = size[i]\n",
    "    la_size = diff_in_gps_coordinate[i][0]\n",
    "    long_size = diff_in_gps_coordinate[i][1]\n",
    "    data = Preprocesscopy(file_path, city, tile_size, la_size, long_size, freq_threshold)\n",
    "    data.read_dataset()\n",
    "    data.split_train_test()\n",
    "    data.find_significant_region(start_id)\n",
    "    data.filter_low_frequency_trajectory()\n",
    "    data.refind_significant_region(start_id)\n",
    "    print \"done refind significant region\"\n",
    "    number_of_regions.append(len(data.region_dict))"
   ]
  },
  {
   "cell_type": "code",
   "execution_count": 11,
   "metadata": {
    "collapsed": true
   },
   "outputs": [],
   "source": [
    "size = np.array(size)\n",
    "number_of_regions = np.array(number_of_regions)"
   ]
  },
  {
   "cell_type": "code",
   "execution_count": 12,
   "metadata": {
    "collapsed": false,
    "scrolled": true
   },
   "outputs": [
    {
     "data": {
      "text/html": [
       "<iframe id=\"igraph\" scrolling=\"no\" style=\"border:none;\" seamless=\"seamless\" src=\"https://plot.ly/~xiongxbox360/2.embed\" height=\"525px\" width=\"100%\"></iframe>"
      ],
      "text/plain": [
       "<plotly.tools.PlotlyDisplay object>"
      ]
     },
     "execution_count": 12,
     "metadata": {},
     "output_type": "execute_result"
    }
   ],
   "source": [
    "# Create a trace\n",
    "trace = go.Scatter(\n",
    "    x = size,\n",
    "    y = number_of_regions\n",
    ")\n",
    "\n",
    "data = [trace]\n",
    "\n",
    "# Plot and embed in ipython notebook!\n",
    "py.iplot(data, filename='basic-line')"
   ]
  },
  {
   "cell_type": "code",
   "execution_count": 18,
   "metadata": {
    "collapsed": false
   },
   "outputs": [],
   "source": [
    "import matplotlib.pyplot as plt\n",
    "\n",
    "line, = plt.plot(size, number_of_regions,  '-', linewidth=2)\n",
    "plt.ylabel('Number of regions')\n",
    "plt.xlabel('Size of regions (meter)')\n",
    "plt.grid(True)\n",
    "\n",
    "plt.show()"
   ]
  },
  {
   "cell_type": "code",
   "execution_count": null,
   "metadata": {
    "collapsed": true
   },
   "outputs": [],
   "source": []
  }
 ],
 "metadata": {
  "kernelspec": {
   "display_name": "Python 2",
   "language": "python",
   "name": "python2"
  },
  "language_info": {
   "codemirror_mode": {
    "name": "ipython",
    "version": 2
   },
   "file_extension": ".py",
   "mimetype": "text/x-python",
   "name": "python",
   "nbconvert_exporter": "python",
   "pygments_lexer": "ipython2",
   "version": "2.7.11"
  }
 },
 "nbformat": 4,
 "nbformat_minor": 0
}
