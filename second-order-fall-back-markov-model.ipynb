{
 "cells": [
  {
   "cell_type": "code",
   "execution_count": 1,
   "metadata": {
    "collapsed": true
   },
   "outputs": [],
   "source": [
    "from __future__ import division\n",
    "from MarkovModel import SecondOrderFallBackMarkovModel\n",
    "import pandas as pd\n",
    "import numpy as np\n",
    "\n",
    "import json\n",
    "\n",
    "from  Preprocesscopy import Preprocesscopy\n",
    "\n",
    "from sklearn.cross_validation import train_test_split"
   ]
  },
  {
   "cell_type": "code",
   "execution_count": 2,
   "metadata": {
    "collapsed": true
   },
   "outputs": [],
   "source": [
    "file_path = '/home/rui/Documents/MLProject/data/modified-crab/trips-in-sanfran.csv'\n",
    "city = 'san_francisco'\n",
    "tile_size = 0.360\n",
    "la_size = 0.003234\n",
    "long_size = 0.004049\n",
    "start_id = 0\n",
    "freq_threshold = 0"
   ]
  },
  {
   "cell_type": "code",
   "execution_count": null,
   "metadata": {
    "collapsed": true
   },
   "outputs": [],
   "source": []
  },
  {
   "cell_type": "code",
   "execution_count": 3,
   "metadata": {
    "collapsed": false
   },
   "outputs": [],
   "source": [
    "data = Preprocesscopy(file_path, city, tile_size, la_size, long_size, freq_threshold)"
   ]
  },
  {
   "cell_type": "code",
   "execution_count": 4,
   "metadata": {
    "collapsed": false
   },
   "outputs": [
    {
     "name": "stdout",
     "output_type": "stream",
     "text": [
      "done read dataset\n",
      "done split dataset\n",
      "done find significant region\n",
      "done filter low frequency traj\n",
      "done refind significant region\n",
      "done convert train traj to region id\n",
      "done convert test traj to region id\n"
     ]
    }
   ],
   "source": [
    "data.read_dataset()\n",
    "print \"done read dataset\"\n",
    "data.split_train_test()\n",
    "print \"done split dataset\"\n",
    "data.find_significant_region(start_id)\n",
    "print \"done find significant region\"\n",
    "data.filter_low_frequency_trajectory()\n",
    "print \"done filter low frequency traj\"\n",
    "data.refind_significant_region(start_id)\n",
    "print \"done refind significant region\"\n",
    "data.convert_train_traj_to_region_id()\n",
    "print \"done convert train traj to region id\"\n",
    "data.convert_test_traj_to_region_id()\n",
    "print \"done convert test traj to region id\""
   ]
  },
  {
   "cell_type": "code",
   "execution_count": 5,
   "metadata": {
    "collapsed": false
   },
   "outputs": [],
   "source": [
    "taxi_train = data.taxi_train\n",
    "taxi_test = data.taxi_test"
   ]
  },
  {
   "cell_type": "code",
   "execution_count": null,
   "metadata": {
    "collapsed": true
   },
   "outputs": [],
   "source": []
  },
  {
   "cell_type": "code",
   "execution_count": 6,
   "metadata": {
    "collapsed": true
   },
   "outputs": [],
   "source": [
    "# define a function to convert trajactro to a numpy array\n",
    "def trace2train_format(training_data):\n",
    "    train_locations = []\n",
    "    train_lengths = []\n",
    "    for row_index, row in training_data.iterrows():\n",
    "        single_trip = row[3]\n",
    "        trip_length = len(single_trip)\n",
    "        \n",
    "        train_lengths.append(trip_length)\n",
    "        \n",
    "        for i in xrange(trip_length):\n",
    "            train_locations.append(single_trip[i])\n",
    "\n",
    "    train_locations = np.array(train_locations)\n",
    "    train_lengths = np.array(train_lengths)\n",
    "    return train_locations, train_lengths"
   ]
  },
  {
   "cell_type": "code",
   "execution_count": null,
   "metadata": {
    "collapsed": true
   },
   "outputs": [],
   "source": []
  },
  {
   "cell_type": "code",
   "execution_count": 7,
   "metadata": {
    "collapsed": false
   },
   "outputs": [],
   "source": [
    "num_states = len(data.region_dict)\n",
    "train_locations, train_lengths = trace2train_format(taxi_train)\n",
    "\n",
    "secondfallbackmm = SecondOrderFallBackMarkovModel(num_states)\n",
    "secondfallbackmm.fit(train_locations, train_lengths)"
   ]
  },
  {
   "cell_type": "code",
   "execution_count": null,
   "metadata": {
    "collapsed": false
   },
   "outputs": [],
   "source": []
  },
  {
   "cell_type": "markdown",
   "metadata": {},
   "source": [
    "# test"
   ]
  },
  {
   "cell_type": "code",
   "execution_count": 8,
   "metadata": {
    "collapsed": false
   },
   "outputs": [
    {
     "name": "stdout",
     "output_type": "stream",
     "text": [
      "The accuracy is 0.371552 \n"
     ]
    }
   ],
   "source": [
    "not_predicted = []\n",
    "total_prediction = 0\n",
    "correct_prediction = 0\n",
    "for row_index, row in taxi_test.iterrows():\n",
    "    single_trip = row[3]\n",
    "    trip_length = len(single_trip)\n",
    "    if trip_length >= 3: \n",
    "        for i in xrange(trip_length - 2):\n",
    "            total_prediction += 1\n",
    "            next_prediction = secondfallbackmm.predict([single_trip[i], single_trip[i+1]])\n",
    "            if next_prediction == -1:\n",
    "                not_predicted.append(1)\n",
    "            if next_prediction == single_trip[i+2]:\n",
    "                correct_prediction += 1\n",
    "accuracy = correct_prediction / total_prediction\n",
    "    \n",
    "print \"The accuracy is %f \" %(accuracy)"
   ]
  },
  {
   "cell_type": "code",
   "execution_count": null,
   "metadata": {
    "collapsed": true
   },
   "outputs": [],
   "source": []
  },
  {
   "cell_type": "code",
   "execution_count": null,
   "metadata": {
    "collapsed": true
   },
   "outputs": [],
   "source": []
  }
 ],
 "metadata": {
  "kernelspec": {
   "display_name": "Python 2",
   "language": "python",
   "name": "python2"
  },
  "language_info": {
   "codemirror_mode": {
    "name": "ipython",
    "version": 2
   },
   "file_extension": ".py",
   "mimetype": "text/x-python",
   "name": "python",
   "nbconvert_exporter": "python",
   "pygments_lexer": "ipython2",
   "version": "2.7.11"
  }
 },
 "nbformat": 4,
 "nbformat_minor": 0
}
