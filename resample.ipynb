{
 "cells": [
  {
   "cell_type": "code",
   "execution_count": 1,
   "metadata": {
    "collapsed": true
   },
   "outputs": [],
   "source": [
    "from __future__ import division  \n",
    "\n",
    "import numpy as np\n",
    "import pandas as pd\n",
    "from geopy.distance import vincenty\n",
    "import json"
   ]
  },
  {
   "cell_type": "code",
   "execution_count": 2,
   "metadata": {
    "collapsed": true
   },
   "outputs": [],
   "source": [
    "# read the dataset, using json.loads to read the data structure --- list.\n",
    "\n",
    "taxi_trips = pd.read_csv('/home/rui/Documents/MLProject/data/modified-crab/every-trip-data.csv')\n",
    "trip_trace = taxi_trips['trip_trace']\n",
    "new_triptrace = []\n",
    "for i in xrange(trip_trace.shape[0]):\n",
    "    new_triptrace.append(json.loads(trip_trace.iloc[i]))\n",
    "\n",
    "taxi_trips['trip_trace'] = new_triptrace"
   ]
  },
  {
   "cell_type": "code",
   "execution_count": 3,
   "metadata": {
    "collapsed": false
   },
   "outputs": [
    {
     "data": {
      "text/plain": [
       "(453048, 4)"
      ]
     },
     "execution_count": 3,
     "metadata": {},
     "output_type": "execute_result"
    }
   ],
   "source": [
    "taxi_trips.shape"
   ]
  },
  {
   "cell_type": "code",
   "execution_count": 4,
   "metadata": {
    "collapsed": true
   },
   "outputs": [],
   "source": [
    "trip_trace = []"
   ]
  },
  {
   "cell_type": "code",
   "execution_count": 5,
   "metadata": {
    "collapsed": true
   },
   "outputs": [],
   "source": [
    "sampling_rate_bias = 10"
   ]
  },
  {
   "cell_type": "code",
   "execution_count": 6,
   "metadata": {
    "collapsed": false
   },
   "outputs": [],
   "source": [
    "for row_index, row in taxi_trips.iterrows():\n",
    "        \n",
    "    single_trip = row[3]\n",
    "    trip_length = len(single_trip)\n",
    "    \n",
    "    valid_single_trip = []\n",
    "    \n",
    "    all_periods = {} # store the difference between each pair of time points in a trajectory\n",
    "    \n",
    "    for i in range(0, trip_length):\n",
    "        for h in range(i+1, trip_length):\n",
    "            all_periods[(i, h)] = (abs(single_trip[h][1] - single_trip[i][1] - 60))\n",
    "    \n",
    "    valid_trip = []\n",
    "    valid_trip.append(0) # put the start location in it.\n",
    "    for i in range(0, trip_length-1):\n",
    "        if not i in valid_trip:\n",
    "            continue\n",
    "        \n",
    "        sample_list = [] # list record the sample rate with abs - 60\n",
    "        smallest_abs = 999999\n",
    "        closest_id = -1\n",
    "        \n",
    "        for h in range(i+1, trip_length):\n",
    "            if all_periods[(i, h)] <  smallest_abs:\n",
    "                smallest_abs = all_periods[(i, h)]\n",
    "                closest_id = h\n",
    "        \n",
    "        if smallest_abs <= sampling_rate_bias:\n",
    "            valid_trip.append(closest_id)\n",
    "        else:\n",
    "            break\n",
    "    \n",
    "    for valid_trip_id in valid_trip:\n",
    "        valid_single_trip.append(single_trip[valid_trip_id])\n",
    "    \n",
    "    trip_trace.append(valid_single_trip)"
   ]
  },
  {
   "cell_type": "code",
   "execution_count": 7,
   "metadata": {
    "collapsed": false
   },
   "outputs": [
    {
     "data": {
      "text/plain": [
       "453048"
      ]
     },
     "execution_count": 7,
     "metadata": {},
     "output_type": "execute_result"
    }
   ],
   "source": [
    "len(trip_trace)"
   ]
  },
  {
   "cell_type": "code",
   "execution_count": 8,
   "metadata": {
    "collapsed": false
   },
   "outputs": [
    {
     "data": {
      "text/html": [
       "<div>\n",
       "<table border=\"1\" class=\"dataframe\">\n",
       "  <thead>\n",
       "    <tr style=\"text-align: right;\">\n",
       "      <th></th>\n",
       "      <th>taxi_id</th>\n",
       "      <th>time_stamp</th>\n",
       "      <th>week_day</th>\n",
       "      <th>trip_trace</th>\n",
       "    </tr>\n",
       "  </thead>\n",
       "  <tbody>\n",
       "    <tr>\n",
       "      <th>0</th>\n",
       "      <td>enyenewl</td>\n",
       "      <td>1.212620e+09</td>\n",
       "      <td>2</td>\n",
       "      <td>[[[37.78401, -122.40783], 1212618405.0], [[37....</td>\n",
       "    </tr>\n",
       "    <tr>\n",
       "      <th>1</th>\n",
       "      <td>enyenewl</td>\n",
       "      <td>1.212620e+09</td>\n",
       "      <td>2</td>\n",
       "      <td>[[[37.79243, -122.42614], 1212619843.0], [[37....</td>\n",
       "    </tr>\n",
       "    <tr>\n",
       "      <th>2</th>\n",
       "      <td>enyenewl</td>\n",
       "      <td>1.212625e+09</td>\n",
       "      <td>3</td>\n",
       "      <td>[[[37.78684, -122.3998], 1212621717.0], [[37.7...</td>\n",
       "    </tr>\n",
       "    <tr>\n",
       "      <th>3</th>\n",
       "      <td>enyenewl</td>\n",
       "      <td>1.212626e+09</td>\n",
       "      <td>3</td>\n",
       "      <td>[[[37.8085, -122.41004], 1212625046.0], [[37.8...</td>\n",
       "    </tr>\n",
       "    <tr>\n",
       "      <th>4</th>\n",
       "      <td>enyenewl</td>\n",
       "      <td>1.212626e+09</td>\n",
       "      <td>3</td>\n",
       "      <td>[[[37.7934, -122.39326], 1212625685.0], [[37.7...</td>\n",
       "    </tr>\n",
       "  </tbody>\n",
       "</table>\n",
       "</div>"
      ],
      "text/plain": [
       "    taxi_id    time_stamp  week_day  \\\n",
       "0  enyenewl  1.212620e+09         2   \n",
       "1  enyenewl  1.212620e+09         2   \n",
       "2  enyenewl  1.212625e+09         3   \n",
       "3  enyenewl  1.212626e+09         3   \n",
       "4  enyenewl  1.212626e+09         3   \n",
       "\n",
       "                                          trip_trace  \n",
       "0  [[[37.78401, -122.40783], 1212618405.0], [[37....  \n",
       "1  [[[37.79243, -122.42614], 1212619843.0], [[37....  \n",
       "2  [[[37.78684, -122.3998], 1212621717.0], [[37.7...  \n",
       "3  [[[37.8085, -122.41004], 1212625046.0], [[37.8...  \n",
       "4  [[[37.7934, -122.39326], 1212625685.0], [[37.7...  "
      ]
     },
     "execution_count": 8,
     "metadata": {},
     "output_type": "execute_result"
    }
   ],
   "source": [
    "taxi_trips['trip_trace'] = trip_trace\n",
    "taxi_trips.head()"
   ]
  },
  {
   "cell_type": "code",
   "execution_count": 9,
   "metadata": {
    "collapsed": true
   },
   "outputs": [],
   "source": [
    "taxi_trips.to_csv('/home/rui/Documents/MLProject/data/modified-crab/after-resample.csv', index=None)"
   ]
  },
  {
   "cell_type": "code",
   "execution_count": null,
   "metadata": {
    "collapsed": true
   },
   "outputs": [],
   "source": []
  },
  {
   "cell_type": "code",
   "execution_count": null,
   "metadata": {
    "collapsed": true
   },
   "outputs": [],
   "source": []
  },
  {
   "cell_type": "code",
   "execution_count": null,
   "metadata": {
    "collapsed": true
   },
   "outputs": [],
   "source": []
  }
 ],
 "metadata": {
  "kernelspec": {
   "display_name": "Python 2",
   "language": "python",
   "name": "python2"
  },
  "language_info": {
   "codemirror_mode": {
    "name": "ipython",
    "version": 2
   },
   "file_extension": ".py",
   "mimetype": "text/x-python",
   "name": "python",
   "nbconvert_exporter": "python",
   "pygments_lexer": "ipython2",
   "version": "2.7.11"
  }
 },
 "nbformat": 4,
 "nbformat_minor": 0
}
