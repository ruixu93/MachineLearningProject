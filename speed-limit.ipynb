{
 "cells": [
  {
   "cell_type": "code",
   "execution_count": 1,
   "metadata": {
    "collapsed": true
   },
   "outputs": [],
   "source": [
    "from __future__ import division  \n",
    "\n",
    "import numpy as np\n",
    "import pandas as pd\n",
    "from geopy.distance import vincenty\n",
    "import json"
   ]
  },
  {
   "cell_type": "code",
   "execution_count": 2,
   "metadata": {
    "collapsed": true
   },
   "outputs": [],
   "source": [
    "# define a function to give the distance between two ( latitude, longtitude) points\n",
    "def getdistance(start_location, next_location):\n",
    "    start_ = (start_location[0], start_location[1])\n",
    "    next_ = (next_location[0], next_location[1])\n",
    "    return vincenty(start_, next_).miles"
   ]
  },
  {
   "cell_type": "code",
   "execution_count": 3,
   "metadata": {
    "collapsed": false
   },
   "outputs": [],
   "source": [
    "# read the dataset, using json.loads to read the data structure --- list.\n",
    "\n",
    "taxi_trips = pd.read_csv('/home/rui/Documents/MLProject/data/modified-crab/after-resample.csv')\n",
    "trip_trace = taxi_trips['trip_trace']\n",
    "new_triptrace = []\n",
    "for i in xrange(trip_trace.shape[0]):\n",
    "    new_triptrace.append(json.loads(trip_trace.iloc[i]))\n",
    "\n",
    "taxi_trips['trip_trace'] = new_triptrace"
   ]
  },
  {
   "cell_type": "code",
   "execution_count": 4,
   "metadata": {
    "collapsed": false,
    "scrolled": true
   },
   "outputs": [
    {
     "data": {
      "text/html": [
       "<div>\n",
       "<table border=\"1\" class=\"dataframe\">\n",
       "  <thead>\n",
       "    <tr style=\"text-align: right;\">\n",
       "      <th></th>\n",
       "      <th>taxi_id</th>\n",
       "      <th>time_stamp</th>\n",
       "      <th>week_day</th>\n",
       "      <th>trip_trace</th>\n",
       "    </tr>\n",
       "  </thead>\n",
       "  <tbody>\n",
       "    <tr>\n",
       "      <th>0</th>\n",
       "      <td>enyenewl</td>\n",
       "      <td>1.212620e+09</td>\n",
       "      <td>2</td>\n",
       "      <td>[[[37.78401, -122.40783], 1212618405.0], [[37....</td>\n",
       "    </tr>\n",
       "    <tr>\n",
       "      <th>1</th>\n",
       "      <td>enyenewl</td>\n",
       "      <td>1.212620e+09</td>\n",
       "      <td>2</td>\n",
       "      <td>[[[37.79243, -122.42614], 1212619843.0], [[37....</td>\n",
       "    </tr>\n",
       "    <tr>\n",
       "      <th>2</th>\n",
       "      <td>enyenewl</td>\n",
       "      <td>1.212625e+09</td>\n",
       "      <td>3</td>\n",
       "      <td>[[[37.78684, -122.3998], 1212621717.0], [[37.7...</td>\n",
       "    </tr>\n",
       "    <tr>\n",
       "      <th>3</th>\n",
       "      <td>enyenewl</td>\n",
       "      <td>1.212626e+09</td>\n",
       "      <td>3</td>\n",
       "      <td>[[[37.8085, -122.41004], 1212625046.0], [[37.8...</td>\n",
       "    </tr>\n",
       "    <tr>\n",
       "      <th>4</th>\n",
       "      <td>enyenewl</td>\n",
       "      <td>1.212626e+09</td>\n",
       "      <td>3</td>\n",
       "      <td>[[[37.7934, -122.39326], 1212625685.0], [[37.7...</td>\n",
       "    </tr>\n",
       "  </tbody>\n",
       "</table>\n",
       "</div>"
      ],
      "text/plain": [
       "    taxi_id    time_stamp  week_day  \\\n",
       "0  enyenewl  1.212620e+09         2   \n",
       "1  enyenewl  1.212620e+09         2   \n",
       "2  enyenewl  1.212625e+09         3   \n",
       "3  enyenewl  1.212626e+09         3   \n",
       "4  enyenewl  1.212626e+09         3   \n",
       "\n",
       "                                          trip_trace  \n",
       "0  [[[37.78401, -122.40783], 1212618405.0], [[37....  \n",
       "1  [[[37.79243, -122.42614], 1212619843.0], [[37....  \n",
       "2  [[[37.78684, -122.3998], 1212621717.0], [[37.7...  \n",
       "3  [[[37.8085, -122.41004], 1212625046.0], [[37.8...  \n",
       "4  [[[37.7934, -122.39326], 1212625685.0], [[37.7...  "
      ]
     },
     "execution_count": 4,
     "metadata": {},
     "output_type": "execute_result"
    }
   ],
   "source": [
    "taxi_trips.head()"
   ]
  },
  {
   "cell_type": "code",
   "execution_count": 5,
   "metadata": {
    "collapsed": false
   },
   "outputs": [
    {
     "data": {
      "text/plain": [
       "(453048, 4)"
      ]
     },
     "execution_count": 5,
     "metadata": {},
     "output_type": "execute_result"
    }
   ],
   "source": [
    "taxi_trips.shape"
   ]
  },
  {
   "cell_type": "markdown",
   "metadata": {},
   "source": [
    "# main function"
   ]
  },
  {
   "cell_type": "code",
   "execution_count": 6,
   "metadata": {
    "collapsed": true
   },
   "outputs": [],
   "source": [
    "speed_limit = 65"
   ]
  },
  {
   "cell_type": "code",
   "execution_count": 7,
   "metadata": {
    "collapsed": false
   },
   "outputs": [],
   "source": [
    "abnormal_indicator = []\n",
    "\n",
    "for row_index, row in taxi_trips.iterrows():\n",
    "    single_trip = row[3]\n",
    "    trip_length = len(single_trip)\n",
    "    \n",
    "    start_location = single_trip[0][0]\n",
    "    start_time = single_trip[0][1]\n",
    "    \n",
    "    wrong_indicator = 0\n",
    "    \n",
    "    if trip_length >= 3:\n",
    "        for i in range(1, trip_length):\n",
    "            if i > 40:\n",
    "                break\n",
    "                \n",
    "            next_location = single_trip[i][0]\n",
    "            next_time = single_trip[i][1]\n",
    "\n",
    "            distance = getdistance(start_location, next_location) # in miles\n",
    "            time_spend = next_time - start_time # in seconds\n",
    "\n",
    "            # average speed\n",
    "            speed = distance / (time_spend / 3600) # miles per hour\n",
    "\n",
    "            # speed limit\n",
    "            if speed <= speed_limit: \n",
    "                start_location = next_location\n",
    "                start_time = next_time\n",
    "            else:\n",
    "                wrong_indicator = 1\n",
    "                break\n",
    "    elif trip_length < 3:\n",
    "        wrong_indicator = 1\n",
    "    abnormal_indicator.append(wrong_indicator)\n",
    "\n",
    "taxi_trips['abnormal_indicator'] = abnormal_indicator\n",
    "taxi_pandas = taxi_trips[taxi_trips['abnormal_indicator'] == 0]\n",
    "del taxi_pandas['abnormal_indicator']\n",
    "taxi_pandas.to_csv('/home/rui/Documents/MLProject/data/modified-crab/valid-trips-limit'+str(speed_limit) + '.csv', index=None)"
   ]
  },
  {
   "cell_type": "code",
   "execution_count": 8,
   "metadata": {
    "collapsed": false
   },
   "outputs": [
    {
     "data": {
      "text/plain": [
       "453048"
      ]
     },
     "execution_count": 8,
     "metadata": {},
     "output_type": "execute_result"
    }
   ],
   "source": [
    "len(abnormal_indicator)"
   ]
  },
  {
   "cell_type": "code",
   "execution_count": 9,
   "metadata": {
    "collapsed": true
   },
   "outputs": [],
   "source": [
    "taxi_trips['abnormal_indicator'] = abnormal_indicator"
   ]
  },
  {
   "cell_type": "code",
   "execution_count": null,
   "metadata": {
    "collapsed": false
   },
   "outputs": [],
   "source": [
    "taxi_pandas = taxi_trips[taxi_trips['abnormal_indicator'] == 0]"
   ]
  },
  {
   "cell_type": "code",
   "execution_count": 10,
   "metadata": {
    "collapsed": false
   },
   "outputs": [
    {
     "data": {
      "text/plain": [
       "(280668, 4)"
      ]
     },
     "execution_count": 10,
     "metadata": {},
     "output_type": "execute_result"
    }
   ],
   "source": [
    "taxi_pandas.shape"
   ]
  },
  {
   "cell_type": "code",
   "execution_count": null,
   "metadata": {
    "collapsed": true
   },
   "outputs": [],
   "source": [
    "del taxi_pandas['abnormal_indicator']"
   ]
  },
  {
   "cell_type": "code",
   "execution_count": null,
   "metadata": {
    "collapsed": false
   },
   "outputs": [],
   "source": [
    "taxi_pandas.head()"
   ]
  },
  {
   "cell_type": "code",
   "execution_count": null,
   "metadata": {
    "collapsed": true
   },
   "outputs": [],
   "source": [
    "taxi_pandas.to_csv('/home/rui/Documents/MLProject/data/modified-crab/valid-trips-limit65.csv', index=None)"
   ]
  },
  {
   "cell_type": "code",
   "execution_count": null,
   "metadata": {
    "collapsed": true
   },
   "outputs": [],
   "source": []
  }
 ],
 "metadata": {
  "kernelspec": {
   "display_name": "Python 2",
   "language": "python",
   "name": "python2"
  },
  "language_info": {
   "codemirror_mode": {
    "name": "ipython",
    "version": 2
   },
   "file_extension": ".py",
   "mimetype": "text/x-python",
   "name": "python",
   "nbconvert_exporter": "python",
   "pygments_lexer": "ipython2",
   "version": "2.7.11"
  }
 },
 "nbformat": 4,
 "nbformat_minor": 0
}
