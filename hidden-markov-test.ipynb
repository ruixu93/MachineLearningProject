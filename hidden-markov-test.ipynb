{
 "cells": [
  {
   "cell_type": "code",
   "execution_count": 1,
   "metadata": {
    "collapsed": true
   },
   "outputs": [],
   "source": [
    "from __future__ import division\n",
    "from hmmlearn.hmm import MultinomialHMM\n",
    "import pandas as pd\n",
    "import numpy as np\n",
    "\n",
    "from  Preprocesscopy import Preprocesscopy\n",
    "\n",
    "from sklearn.cross_validation import train_test_split\n",
    "from sklearn.externals import joblib"
   ]
  },
  {
   "cell_type": "code",
   "execution_count": 2,
   "metadata": {
    "collapsed": true
   },
   "outputs": [],
   "source": [
    "file_path = '/home/rui/Documents/MLProject/data/modified-crab/trips-in-sanfran.csv'\n",
    "city = 'san_francisco'\n",
    "tile_size = 0.360\n",
    "la_size = 0.003234\n",
    "long_size = 0.004049\n",
    "start_id = 0\n",
    "freq_threshold = 0"
   ]
  },
  {
   "cell_type": "code",
   "execution_count": 3,
   "metadata": {
    "collapsed": true
   },
   "outputs": [],
   "source": [
    "data = Preprocesscopy(file_path, city, tile_size, la_size, long_size, freq_threshold)"
   ]
  },
  {
   "cell_type": "code",
   "execution_count": 4,
   "metadata": {
    "collapsed": false
   },
   "outputs": [
    {
     "name": "stdout",
     "output_type": "stream",
     "text": [
      "done read dataset\n",
      "done split dataset\n",
      "done find significant region\n",
      "done filter low frequency traj\n",
      "done refind significant region\n",
      "done convert train traj to region id\n",
      "done convert test traj to region id\n"
     ]
    }
   ],
   "source": [
    "data.read_dataset()\n",
    "print \"done read dataset\"\n",
    "data.split_train_test()\n",
    "print \"done split dataset\"\n",
    "data.find_significant_region(start_id)\n",
    "print \"done find significant region\"\n",
    "data.filter_low_frequency_trajectory()\n",
    "print \"done filter low frequency traj\"\n",
    "data.refind_significant_region(start_id)\n",
    "print \"done refind significant region\"\n",
    "data.convert_train_traj_to_region_id()\n",
    "print \"done convert train traj to region id\"\n",
    "data.convert_test_traj_to_region_id()\n",
    "print \"done convert test traj to region id\""
   ]
  },
  {
   "cell_type": "code",
   "execution_count": 5,
   "metadata": {
    "collapsed": true
   },
   "outputs": [],
   "source": [
    "taxi_train = data.taxi_train\n",
    "taxi_test = data.taxi_test"
   ]
  },
  {
   "cell_type": "code",
   "execution_count": null,
   "metadata": {
    "collapsed": true
   },
   "outputs": [],
   "source": [
    "taxi_test"
   ]
  },
  {
   "cell_type": "code",
   "execution_count": 10,
   "metadata": {
    "collapsed": false
   },
   "outputs": [],
   "source": [
    "hmm  = joblib.load(\"hiddenmarkovmodel360-20.pkl\")  "
   ]
  },
  {
   "cell_type": "code",
   "execution_count": 11,
   "metadata": {
    "collapsed": false
   },
   "outputs": [
    {
     "name": "stdout",
     "output_type": "stream",
     "text": [
      "The accuracy is 0.058187 \n"
     ]
    }
   ],
   "source": [
    "transmat = hmm.transmat_\n",
    "emissionprob = hmm.emissionprob_\n",
    "startprob = np.column_stack([hmm.startprob_])\n",
    "H = 20\n",
    "predictions = []\n",
    "\n",
    "correct_prediction = 0\n",
    "total_prediction = 0\n",
    "\n",
    "\n",
    "for row_index, row in taxi_test.iterrows():\n",
    "    x = row[3]\n",
    "    T = len(x)\n",
    "    \n",
    "    # alpha recursion\n",
    "    alpha = np.zeros((H, T))\n",
    "    alpha = np.asmatrix(alpha)\n",
    "    z = np.zeros(T)  # local normalisaton factors\n",
    "    phgh = transmat.T\n",
    "    \n",
    "    alpha[:, 0] = np.row_stack(emissionprob[:, x[0]]) * startprob\n",
    "    z[0] = alpha[:, 0].sum()\n",
    "    alpha[:, 0] = alpha[:, 0] / z[0]\n",
    "    next_hidden = phgh.dot(alpha[:, 0])\n",
    "    next_observation = emissionprob.T.dot(next_hidden)\n",
    "    next_prediction = np.where(next_observation == np.max(next_observation))\n",
    "    total_prediction += 1\n",
    "    if next_prediction[0][0] == x[1]:\n",
    "            correct_prediction += 1\n",
    "    \n",
    "    \n",
    "    for t in range(1, T-1):\n",
    "        predictor = phgh.dot(alpha[:, t-1])\n",
    "        alpha[:, t] = np.row_stack(emissionprob[:, x[t]]) * np.array(predictor)\n",
    "        z[t] = alpha[:, t].sum()\n",
    "        alpha[:, t] = alpha[:, t] / z[t]\n",
    "        next_hidden = phgh.dot(alpha[:, 0])\n",
    "        next_observation = emissionprob.T.dot(next_hidden)\n",
    "        next_prediction = np.where(next_observation == np.max(next_observation))\n",
    "        total_prediction += 1\n",
    "        predictions.append(next_prediction[0][0])\n",
    "        if next_prediction[0][0] == x[t+1]:\n",
    "            correct_prediction += 1\n",
    "\n",
    "accuracy = correct_prediction / total_prediction\n",
    "print \"The accuracy is %f \" %(accuracy)"
   ]
  },
  {
   "cell_type": "code",
   "execution_count": null,
   "metadata": {
    "collapsed": false
   },
   "outputs": [],
   "source": []
  },
  {
   "cell_type": "markdown",
   "metadata": {},
   "source": [
    "4 hidden states: 0.038463 "
   ]
  },
  {
   "cell_type": "markdown",
   "metadata": {},
   "source": [
    "8 hidden states: 0.041145 "
   ]
  },
  {
   "cell_type": "markdown",
   "metadata": {},
   "source": [
    "12 hidden states:  0.052145 "
   ]
  },
  {
   "cell_type": "markdown",
   "metadata": {},
   "source": [
    "16 hidden states: 0.055166 "
   ]
  },
  {
   "cell_type": "markdown",
   "metadata": {},
   "source": [
    "20 hidden states: 0.058187 "
   ]
  },
  {
   "cell_type": "markdown",
   "metadata": {},
   "source": [
    "24 hidden states: 0.053594 "
   ]
  }
 ],
 "metadata": {
  "kernelspec": {
   "display_name": "Python 2",
   "language": "python",
   "name": "python2"
  },
  "language_info": {
   "codemirror_mode": {
    "name": "ipython",
    "version": 2
   },
   "file_extension": ".py",
   "mimetype": "text/x-python",
   "name": "python",
   "nbconvert_exporter": "python",
   "pygments_lexer": "ipython2",
   "version": "2.7.11"
  }
 },
 "nbformat": 4,
 "nbformat_minor": 0
}
